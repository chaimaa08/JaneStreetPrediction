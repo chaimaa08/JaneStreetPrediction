{
 "cells": [
  {
   "cell_type": "code",
   "execution_count": 1,
   "metadata": {
    "_cell_guid": "b1076dfc-b9ad-4769-8c92-a6c4dae69d19",
    "_uuid": "8f2839f25d086af736a60e9eeb907d3b93b6e0e5",
    "execution": {
     "iopub.execute_input": "2021-02-07T05:13:40.450991Z",
     "iopub.status.busy": "2021-02-07T05:13:40.450373Z",
     "iopub.status.idle": "2021-02-07T05:13:41.560468Z",
     "shell.execute_reply": "2021-02-07T05:13:41.559449Z"
    },
    "papermill": {
     "duration": 1.143577,
     "end_time": "2021-02-07T05:13:41.560609",
     "exception": false,
     "start_time": "2021-02-07T05:13:40.417032",
     "status": "completed"
    },
    "tags": []
   },
   "outputs": [
    {
     "name": "stdout",
     "output_type": "stream",
     "text": [
      "/kaggle/input/jane-street-market-prediction/example_sample_submission.csv\n",
      "/kaggle/input/jane-street-market-prediction/features.csv\n",
      "/kaggle/input/jane-street-market-prediction/example_test.csv\n",
      "/kaggle/input/jane-street-market-prediction/train.csv\n",
      "/kaggle/input/jane-street-market-prediction/janestreet/competition.cpython-37m-x86_64-linux-gnu.so\n",
      "/kaggle/input/jane-street-market-prediction/janestreet/__init__.py\n",
      "/kaggle/input/jane-street-market-prediction/example_sample_submission.csv\n",
      "/kaggle/input/jane-street-market-prediction/features.csv\n",
      "/kaggle/input/jane-street-market-prediction/example_test.csv\n",
      "/kaggle/input/jane-street-market-prediction/train.csv\n",
      "/kaggle/input/jane-street-market-prediction/janestreet/competition.cpython-37m-x86_64-linux-gnu.so\n",
      "/kaggle/input/jane-street-market-prediction/janestreet/__init__.py\n"
     ]
    }
   ],
   "source": [
    "# This Python 3 environment comes with many helpful analytics libraries installed\n",
    "# It is defined by the kaggle/python Docker image: https://github.com/kaggle/docker-python\n",
    "# For example, here's several helpful packages to load\n",
    "\n",
    "import numpy as np # linear algebra\n",
    "import pandas as pd # data processing, CSV file I/O (e.g. pd.read_csv)\n",
    "from sklearn.linear_model import LinearRegression\n",
    "from sklearn.linear_model import SGDClassifier\n",
    "from sklearn.model_selection import train_test_split\n",
    "from sklearn.metrics import mean_squared_error\n",
    "from sklearn.metrics import accuracy_score\n",
    "from sklearn.pipeline import FeatureUnion\n",
    "from sklearn.impute import SimpleImputer, MissingIndicator\n",
    "import gc\n",
    "import janestreet\n",
    "# This Python 3 environment comes with many helpful analytics libraries installed\n",
    "# It is defined by the kaggle/python Docker image: https://github.com/kaggle/docker-python\n",
    "# For example, here's several helpful packages to load\n",
    "\n",
    "import numpy as np # linear algebra\n",
    "import pandas as pd # data processing, CSV file I/O (e.g. pd.read_csv)\n",
    "from sklearn.linear_model import LinearRegression\n",
    "from sklearn.linear_model import SGDClassifier\n",
    "from sklearn.model_selection import train_test_split\n",
    "from sklearn.metrics import mean_squared_error\n",
    "from sklearn.metrics import accuracy_score\n",
    "from sklearn.pipeline import FeatureUnion\n",
    "from sklearn.impute import SimpleImputer, MissingIndicator\n",
    "import gc\n",
    "import janestreet\n",
    "from sklearn.linear_model import LogisticRegression\n",
    "from sklearn.metrics import classification_report\n",
    "from sklearn.metrics import roc_auc_score,confusion_matrix,classification_report\n",
    "from sklearn.model_selection import learning_curve,StratifiedKFold\n",
    "# Input data files are available in the read-only \"../input/\" directory\n",
    "# For example, running this (by clicking run or pressing Shift+Enter) will list all files under the input directory\n",
    "\n",
    "import os\n",
    "for dirname, _, filenames in os.walk('/kaggle/input'):\n",
    "    for filename in filenames:\n",
    "        print(os.path.join(dirname, filename))\n",
    "\n",
    "# You can write up to 20GB to the current directory (/kaggle/working/) that gets preserved as output when you create a version using \"Save & Run All\" \n",
    "# You can also write temporary files to /kaggle/temp/, but they won't be saved outside of the current session\n",
    "# Input data files are available in the read-only \"../input/\" directory\n",
    "# For example, running this (by clicking run or pressing Shift+Enter) will list all files under the input directory\n",
    "\n",
    "import os\n",
    "for dirname, _, filenames in os.walk('/kaggle/input'):\n",
    "    for filename in filenames:\n",
    "        print(os.path.join(dirname, filename))\n",
    "\n",
    "# You can write up to 20GB to the current directory (/kaggle/working/) that gets preserved as output when you create a version using \"Save & Run All\" \n",
    "# You can also write temporary files to /kaggle/temp/, but they won't be saved outside of the current session"
   ]
  },
  {
   "cell_type": "code",
   "execution_count": 2,
   "metadata": {
    "_cell_guid": "79c7e3d0-c299-4dcb-8224-4455121ee9b0",
    "_uuid": "d629ff2d2480ee46fbb7e2d37f6b5fab8052498a",
    "execution": {
     "iopub.execute_input": "2021-02-07T05:13:41.606878Z",
     "iopub.status.busy": "2021-02-07T05:13:41.606346Z",
     "iopub.status.idle": "2021-02-07T05:15:59.506574Z",
     "shell.execute_reply": "2021-02-07T05:15:59.505064Z"
    },
    "papermill": {
     "duration": 137.925224,
     "end_time": "2021-02-07T05:15:59.506715",
     "exception": false,
     "start_time": "2021-02-07T05:13:41.581491",
     "status": "completed"
    },
    "tags": []
   },
   "outputs": [],
   "source": [
    "train_df = pd.read_csv('../input/jane-street-market-prediction/train.csv')\n"
   ]
  },
  {
   "cell_type": "code",
   "execution_count": 3,
   "metadata": {
    "execution": {
     "iopub.execute_input": "2021-02-07T05:15:59.554021Z",
     "iopub.status.busy": "2021-02-07T05:15:59.552280Z",
     "iopub.status.idle": "2021-02-07T05:15:59.556133Z",
     "shell.execute_reply": "2021-02-07T05:15:59.555655Z"
    },
    "papermill": {
     "duration": 0.028663,
     "end_time": "2021-02-07T05:15:59.556219",
     "exception": false,
     "start_time": "2021-02-07T05:15:59.527556",
     "status": "completed"
    },
    "tags": []
   },
   "outputs": [
    {
     "name": "stdout",
     "output_type": "stream",
     "text": [
      "train shape is (2390491, 138)\n"
     ]
    }
   ],
   "source": [
    "print('train shape is {}'.format(train_df.shape))\n"
   ]
  },
  {
   "cell_type": "code",
   "execution_count": 4,
   "metadata": {
    "execution": {
     "iopub.execute_input": "2021-02-07T05:15:59.625475Z",
     "iopub.status.busy": "2021-02-07T05:15:59.624980Z",
     "iopub.status.idle": "2021-02-07T05:15:59.638262Z",
     "shell.execute_reply": "2021-02-07T05:15:59.638661Z"
    },
    "papermill": {
     "duration": 0.062472,
     "end_time": "2021-02-07T05:15:59.638766",
     "exception": false,
     "start_time": "2021-02-07T05:15:59.576294",
     "status": "completed"
    },
    "tags": []
   },
   "outputs": [
    {
     "data": {
      "text/html": [
       "<div>\n",
       "<style scoped>\n",
       "    .dataframe tbody tr th:only-of-type {\n",
       "        vertical-align: middle;\n",
       "    }\n",
       "\n",
       "    .dataframe tbody tr th {\n",
       "        vertical-align: top;\n",
       "    }\n",
       "\n",
       "    .dataframe thead th {\n",
       "        text-align: right;\n",
       "    }\n",
       "</style>\n",
       "<table border=\"1\" class=\"dataframe\">\n",
       "  <thead>\n",
       "    <tr style=\"text-align: right;\">\n",
       "      <th></th>\n",
       "      <th>date</th>\n",
       "      <th>weight</th>\n",
       "      <th>resp_1</th>\n",
       "      <th>resp_2</th>\n",
       "      <th>resp_3</th>\n",
       "      <th>resp_4</th>\n",
       "      <th>resp</th>\n",
       "      <th>feature_0</th>\n",
       "      <th>feature_1</th>\n",
       "      <th>feature_2</th>\n",
       "      <th>...</th>\n",
       "      <th>feature_121</th>\n",
       "      <th>feature_122</th>\n",
       "      <th>feature_123</th>\n",
       "      <th>feature_124</th>\n",
       "      <th>feature_125</th>\n",
       "      <th>feature_126</th>\n",
       "      <th>feature_127</th>\n",
       "      <th>feature_128</th>\n",
       "      <th>feature_129</th>\n",
       "      <th>ts_id</th>\n",
       "    </tr>\n",
       "  </thead>\n",
       "  <tbody>\n",
       "    <tr>\n",
       "      <th>0</th>\n",
       "      <td>0</td>\n",
       "      <td>0.000000</td>\n",
       "      <td>0.009916</td>\n",
       "      <td>0.014079</td>\n",
       "      <td>0.008773</td>\n",
       "      <td>0.001390</td>\n",
       "      <td>0.006270</td>\n",
       "      <td>1</td>\n",
       "      <td>-1.872746</td>\n",
       "      <td>-2.191242</td>\n",
       "      <td>...</td>\n",
       "      <td>NaN</td>\n",
       "      <td>1.168391</td>\n",
       "      <td>8.313583</td>\n",
       "      <td>1.782433</td>\n",
       "      <td>14.018213</td>\n",
       "      <td>2.653056</td>\n",
       "      <td>12.600292</td>\n",
       "      <td>2.301488</td>\n",
       "      <td>11.445807</td>\n",
       "      <td>0</td>\n",
       "    </tr>\n",
       "    <tr>\n",
       "      <th>1</th>\n",
       "      <td>0</td>\n",
       "      <td>16.673515</td>\n",
       "      <td>-0.002828</td>\n",
       "      <td>-0.003226</td>\n",
       "      <td>-0.007319</td>\n",
       "      <td>-0.011114</td>\n",
       "      <td>-0.009792</td>\n",
       "      <td>-1</td>\n",
       "      <td>-1.349537</td>\n",
       "      <td>-1.704709</td>\n",
       "      <td>...</td>\n",
       "      <td>NaN</td>\n",
       "      <td>-1.178850</td>\n",
       "      <td>1.777472</td>\n",
       "      <td>-0.915458</td>\n",
       "      <td>2.831612</td>\n",
       "      <td>-1.417010</td>\n",
       "      <td>2.297459</td>\n",
       "      <td>-1.304614</td>\n",
       "      <td>1.898684</td>\n",
       "      <td>1</td>\n",
       "    </tr>\n",
       "    <tr>\n",
       "      <th>2</th>\n",
       "      <td>0</td>\n",
       "      <td>0.000000</td>\n",
       "      <td>0.025134</td>\n",
       "      <td>0.027607</td>\n",
       "      <td>0.033406</td>\n",
       "      <td>0.034380</td>\n",
       "      <td>0.023970</td>\n",
       "      <td>-1</td>\n",
       "      <td>0.812780</td>\n",
       "      <td>-0.256156</td>\n",
       "      <td>...</td>\n",
       "      <td>NaN</td>\n",
       "      <td>6.115747</td>\n",
       "      <td>9.667908</td>\n",
       "      <td>5.542871</td>\n",
       "      <td>11.671595</td>\n",
       "      <td>7.281757</td>\n",
       "      <td>10.060014</td>\n",
       "      <td>6.638248</td>\n",
       "      <td>9.427299</td>\n",
       "      <td>2</td>\n",
       "    </tr>\n",
       "    <tr>\n",
       "      <th>3</th>\n",
       "      <td>0</td>\n",
       "      <td>0.000000</td>\n",
       "      <td>-0.004730</td>\n",
       "      <td>-0.003273</td>\n",
       "      <td>-0.000461</td>\n",
       "      <td>-0.000476</td>\n",
       "      <td>-0.003200</td>\n",
       "      <td>-1</td>\n",
       "      <td>1.174378</td>\n",
       "      <td>0.344640</td>\n",
       "      <td>...</td>\n",
       "      <td>NaN</td>\n",
       "      <td>2.838853</td>\n",
       "      <td>0.499251</td>\n",
       "      <td>3.033732</td>\n",
       "      <td>1.513488</td>\n",
       "      <td>4.397532</td>\n",
       "      <td>1.266037</td>\n",
       "      <td>3.856384</td>\n",
       "      <td>1.013469</td>\n",
       "      <td>3</td>\n",
       "    </tr>\n",
       "    <tr>\n",
       "      <th>4</th>\n",
       "      <td>0</td>\n",
       "      <td>0.138531</td>\n",
       "      <td>0.001252</td>\n",
       "      <td>0.002165</td>\n",
       "      <td>-0.001215</td>\n",
       "      <td>-0.006219</td>\n",
       "      <td>-0.002604</td>\n",
       "      <td>1</td>\n",
       "      <td>-3.172026</td>\n",
       "      <td>-3.093182</td>\n",
       "      <td>...</td>\n",
       "      <td>NaN</td>\n",
       "      <td>0.344850</td>\n",
       "      <td>4.101145</td>\n",
       "      <td>0.614252</td>\n",
       "      <td>6.623456</td>\n",
       "      <td>0.800129</td>\n",
       "      <td>5.233243</td>\n",
       "      <td>0.362636</td>\n",
       "      <td>3.926633</td>\n",
       "      <td>4</td>\n",
       "    </tr>\n",
       "  </tbody>\n",
       "</table>\n",
       "<p>5 rows × 138 columns</p>\n",
       "</div>"
      ],
      "text/plain": [
       "   date     weight    resp_1    resp_2    resp_3    resp_4      resp  \\\n",
       "0     0   0.000000  0.009916  0.014079  0.008773  0.001390  0.006270   \n",
       "1     0  16.673515 -0.002828 -0.003226 -0.007319 -0.011114 -0.009792   \n",
       "2     0   0.000000  0.025134  0.027607  0.033406  0.034380  0.023970   \n",
       "3     0   0.000000 -0.004730 -0.003273 -0.000461 -0.000476 -0.003200   \n",
       "4     0   0.138531  0.001252  0.002165 -0.001215 -0.006219 -0.002604   \n",
       "\n",
       "   feature_0  feature_1  feature_2  ...  feature_121  feature_122  \\\n",
       "0          1  -1.872746  -2.191242  ...          NaN     1.168391   \n",
       "1         -1  -1.349537  -1.704709  ...          NaN    -1.178850   \n",
       "2         -1   0.812780  -0.256156  ...          NaN     6.115747   \n",
       "3         -1   1.174378   0.344640  ...          NaN     2.838853   \n",
       "4          1  -3.172026  -3.093182  ...          NaN     0.344850   \n",
       "\n",
       "   feature_123  feature_124  feature_125  feature_126  feature_127  \\\n",
       "0     8.313583     1.782433    14.018213     2.653056    12.600292   \n",
       "1     1.777472    -0.915458     2.831612    -1.417010     2.297459   \n",
       "2     9.667908     5.542871    11.671595     7.281757    10.060014   \n",
       "3     0.499251     3.033732     1.513488     4.397532     1.266037   \n",
       "4     4.101145     0.614252     6.623456     0.800129     5.233243   \n",
       "\n",
       "   feature_128  feature_129  ts_id  \n",
       "0     2.301488    11.445807      0  \n",
       "1    -1.304614     1.898684      1  \n",
       "2     6.638248     9.427299      2  \n",
       "3     3.856384     1.013469      3  \n",
       "4     0.362636     3.926633      4  \n",
       "\n",
       "[5 rows x 138 columns]"
      ]
     },
     "execution_count": 4,
     "metadata": {},
     "output_type": "execute_result"
    }
   ],
   "source": [
    "train_df.head()"
   ]
  },
  {
   "cell_type": "code",
   "execution_count": 5,
   "metadata": {
    "execution": {
     "iopub.execute_input": "2021-02-07T05:15:59.686085Z",
     "iopub.status.busy": "2021-02-07T05:15:59.685501Z",
     "iopub.status.idle": "2021-02-07T05:16:01.782568Z",
     "shell.execute_reply": "2021-02-07T05:16:01.781416Z"
    },
    "papermill": {
     "duration": 2.122965,
     "end_time": "2021-02-07T05:16:01.782689",
     "exception": false,
     "start_time": "2021-02-07T05:15:59.659724",
     "status": "completed"
    },
    "tags": []
   },
   "outputs": [],
   "source": [
    "train_df = train_df[train_df['weight'] != 0]\n",
    "\n",
    "train_df['action'] = ((train_df['weight'].values * train_df['resp'].values) > 0).astype('int')\n",
    "\n",
    "\n",
    "X_train = train_df.loc[:, train_df.columns.str.contains('feature')]\n",
    "y_train = train_df.loc[:, 'action']\n"
   ]
  },
  {
   "cell_type": "code",
   "execution_count": 6,
   "metadata": {
    "execution": {
     "iopub.execute_input": "2021-02-07T05:16:01.832832Z",
     "iopub.status.busy": "2021-02-07T05:16:01.831450Z",
     "iopub.status.idle": "2021-02-07T05:16:03.908537Z",
     "shell.execute_reply": "2021-02-07T05:16:03.907493Z"
    },
    "papermill": {
     "duration": 2.103877,
     "end_time": "2021-02-07T05:16:03.908658",
     "exception": false,
     "start_time": "2021-02-07T05:16:01.804781",
     "status": "completed"
    },
    "tags": []
   },
   "outputs": [],
   "source": [
    "X_train = X_train.fillna(-999)"
   ]
  },
  {
   "cell_type": "code",
   "execution_count": 7,
   "metadata": {
    "execution": {
     "iopub.execute_input": "2021-02-07T05:16:03.957399Z",
     "iopub.status.busy": "2021-02-07T05:16:03.956714Z",
     "iopub.status.idle": "2021-02-07T05:16:09.062460Z",
     "shell.execute_reply": "2021-02-07T05:16:09.061992Z"
    },
    "papermill": {
     "duration": 5.132216,
     "end_time": "2021-02-07T05:16:09.062555",
     "exception": false,
     "start_time": "2021-02-07T05:16:03.930339",
     "status": "completed"
    },
    "tags": []
   },
   "outputs": [
    {
     "name": "stdout",
     "output_type": "stream",
     "text": [
      "XGBoost version: 1.2.1\n"
     ]
    }
   ],
   "source": [
    "from sklearn.model_selection import train_test_split\n",
    "from sklearn.linear_model import LogisticRegression\n",
    "from sklearn.metrics import classification_report\n",
    "from sklearn.metrics import roc_auc_score,confusion_matrix,classification_report\n",
    "from sklearn.model_selection import learning_curve,StratifiedKFold\n",
    "from sklearn import preprocessing\n",
    "import xgboost as xgb\n",
    "\n",
    "print(\"XGBoost version:\", xgb.__version__)"
   ]
  },
  {
   "cell_type": "code",
   "execution_count": 8,
   "metadata": {
    "execution": {
     "iopub.execute_input": "2021-02-07T05:16:09.119771Z",
     "iopub.status.busy": "2021-02-07T05:16:09.118555Z",
     "iopub.status.idle": "2021-02-07T05:16:13.176102Z",
     "shell.execute_reply": "2021-02-07T05:16:13.175005Z"
    },
    "papermill": {
     "duration": 4.089731,
     "end_time": "2021-02-07T05:16:13.176222",
     "exception": false,
     "start_time": "2021-02-07T05:16:09.086491",
     "status": "completed"
    },
    "tags": []
   },
   "outputs": [],
   "source": [
    "X_train, X_test, y_train, y_test = train_test_split(X_train, y_train, test_size=0.2, stratify=y_train,random_state=42)"
   ]
  },
  {
   "cell_type": "markdown",
   "metadata": {
    "papermill": {
     "duration": 0.021827,
     "end_time": "2021-02-07T05:16:13.260172",
     "exception": false,
     "start_time": "2021-02-07T05:16:13.238345",
     "status": "completed"
    },
    "tags": []
   },
   "source": [
    "# XGBoost Classifier"
   ]
  },
  {
   "cell_type": "code",
   "execution_count": 9,
   "metadata": {
    "execution": {
     "iopub.execute_input": "2021-02-07T05:16:13.310236Z",
     "iopub.status.busy": "2021-02-07T05:16:13.309372Z",
     "iopub.status.idle": "2021-02-07T05:16:13.311692Z",
     "shell.execute_reply": "2021-02-07T05:16:13.312088Z"
    },
    "papermill": {
     "duration": 0.029898,
     "end_time": "2021-02-07T05:16:13.312193",
     "exception": false,
     "start_time": "2021-02-07T05:16:13.282295",
     "status": "completed"
    },
    "tags": []
   },
   "outputs": [],
   "source": [
    "\n",
    "clf = xgb.XGBClassifier(\n",
    "    n_estimators=500,\n",
    "    max_depth=11,\n",
    "    learning_rate=0.05,\n",
    "    subsample=0.9,\n",
    "    colsample_bytree=0.7,\n",
    "    missing=-999,\n",
    "    random_state=2020,\n",
    "    tree_method='gpu_hist'  # THE MAGICAL PARAMETER\n",
    ")\n"
   ]
  },
  {
   "cell_type": "code",
   "execution_count": 10,
   "metadata": {
    "execution": {
     "iopub.execute_input": "2021-02-07T05:16:13.361840Z",
     "iopub.status.busy": "2021-02-07T05:16:13.360725Z",
     "iopub.status.idle": "2021-02-07T05:17:34.695993Z",
     "shell.execute_reply": "2021-02-07T05:17:34.696412Z"
    },
    "papermill": {
     "duration": 81.362206,
     "end_time": "2021-02-07T05:17:34.696542",
     "exception": false,
     "start_time": "2021-02-07T05:16:13.334336",
     "status": "completed"
    },
    "tags": []
   },
   "outputs": [
    {
     "data": {
      "text/plain": [
       "XGBClassifier(base_score=0.5, booster='gbtree', colsample_bylevel=1,\n",
       "              colsample_bynode=1, colsample_bytree=0.7, gamma=0, gpu_id=0,\n",
       "              importance_type='gain', interaction_constraints='',\n",
       "              learning_rate=0.05, max_delta_step=0, max_depth=11,\n",
       "              min_child_weight=1, missing=-999,\n",
       "              monotone_constraints='(0,0,0,0,0,0,0,0,0,0,0,0,0,0,0,0,0,0,0,0,0,0,0,0,0,0,0,0,0,0,0,0,0,0,0,0,0...0,0,0,0,0,0,0,0,0,0,0,0,0,0,0,0,0,0,0,0,0,0,0,0,0,0,0,0,0,0,0,0,0,0,0,0,0,0,0,0,0,0,0,0,0,0,0,0,0,0,0,0,0,0,0,0,0,0,0,0,0,0,0,0,0,0,0,0,0,0,0,0,0,0,0,0,0,0,0,0,0,0,0)',\n",
       "              n_estimators=500, n_jobs=0, num_parallel_tree=1,\n",
       "              random_state=2020, reg_alpha=0, reg_lambda=1, scale_pos_weight=1,\n",
       "              subsample=0.9, tree_method='gpu_hist', validate_parameters=1,\n",
       "              verbosity=None)"
      ]
     },
     "execution_count": 10,
     "metadata": {},
     "output_type": "execute_result"
    }
   ],
   "source": [
    "clf.fit(X_train, y_train)"
   ]
  },
  {
   "cell_type": "code",
   "execution_count": 11,
   "metadata": {
    "execution": {
     "iopub.execute_input": "2021-02-07T05:17:34.749138Z",
     "iopub.status.busy": "2021-02-07T05:17:34.748291Z",
     "iopub.status.idle": "2021-02-07T05:18:00.049027Z",
     "shell.execute_reply": "2021-02-07T05:18:00.050076Z"
    },
    "papermill": {
     "duration": 25.331062,
     "end_time": "2021-02-07T05:18:00.050242",
     "exception": false,
     "start_time": "2021-02-07T05:17:34.719180",
     "status": "completed"
    },
    "tags": []
   },
   "outputs": [],
   "source": [
    "\n",
    "y_pred1=clf.predict(X_test)"
   ]
  },
  {
   "cell_type": "code",
   "execution_count": 12,
   "metadata": {
    "execution": {
     "iopub.execute_input": "2021-02-07T05:18:00.117555Z",
     "iopub.status.busy": "2021-02-07T05:18:00.116343Z",
     "iopub.status.idle": "2021-02-07T05:18:25.204762Z",
     "shell.execute_reply": "2021-02-07T05:18:25.205631Z"
    },
    "papermill": {
     "duration": 25.126225,
     "end_time": "2021-02-07T05:18:25.205784",
     "exception": false,
     "start_time": "2021-02-07T05:18:00.079559",
     "status": "completed"
    },
    "tags": []
   },
   "outputs": [
    {
     "data": {
      "text/plain": [
       "0.6136532259285616"
      ]
     },
     "execution_count": 12,
     "metadata": {},
     "output_type": "execute_result"
    }
   ],
   "source": [
    "#Accuracy on test split\n",
    "clf.score(X_test, y_test)"
   ]
  },
  {
   "cell_type": "code",
   "execution_count": 13,
   "metadata": {
    "execution": {
     "iopub.execute_input": "2021-02-07T05:18:25.280433Z",
     "iopub.status.busy": "2021-02-07T05:18:25.279805Z",
     "iopub.status.idle": "2021-02-07T05:20:09.088950Z",
     "shell.execute_reply": "2021-02-07T05:20:09.089421Z"
    },
    "papermill": {
     "duration": 103.853317,
     "end_time": "2021-02-07T05:20:09.089556",
     "exception": false,
     "start_time": "2021-02-07T05:18:25.236239",
     "status": "completed"
    },
    "tags": []
   },
   "outputs": [
    {
     "data": {
      "text/plain": [
       "0.8379644788833517"
      ]
     },
     "execution_count": 13,
     "metadata": {},
     "output_type": "execute_result"
    }
   ],
   "source": [
    "#Accracy on train split\n",
    "clf.score(X_train, y_train)"
   ]
  },
  {
   "cell_type": "code",
   "execution_count": 14,
   "metadata": {
    "execution": {
     "iopub.execute_input": "2021-02-07T05:20:09.142775Z",
     "iopub.status.busy": "2021-02-07T05:20:09.142278Z",
     "iopub.status.idle": "2021-02-07T05:20:10.177487Z",
     "shell.execute_reply": "2021-02-07T05:20:10.177044Z"
    },
    "papermill": {
     "duration": 1.064331,
     "end_time": "2021-02-07T05:20:10.177586",
     "exception": false,
     "start_time": "2021-02-07T05:20:09.113255",
     "status": "completed"
    },
    "tags": []
   },
   "outputs": [
    {
     "data": {
      "text/plain": [
       "Text(33.0, 0.5, 'Predicted Label')"
      ]
     },
     "execution_count": 14,
     "metadata": {},
     "output_type": "execute_result"
    },
    {
     "data": {
      "image/png": "[encoded data removed]",
      "text/plain": [
       "<Figure size 432x288 with 2 Axes>"
      ]
     },
     "metadata": {
      "needs_background": "light"
     },
     "output_type": "display_data"
    }
   ],
   "source": [
    "import seaborn as sns          \n",
    "# Confusion Matrix\n",
    "cm = confusion_matrix(y_test, y_pred1).T\n",
    "cm = cm.astype('float')/cm.sum(axis=0)\n",
    "ax = sns.heatmap(cm, annot=True, cmap='Blues');\n",
    "ax.set_xlabel('True Label',size=12)\n",
    "ax.set_ylabel('Predicted Label',size=12)\n"
   ]
  },
  {
   "cell_type": "markdown",
   "metadata": {
    "papermill": {
     "duration": 0.024224,
     "end_time": "2021-02-07T05:20:10.227464",
     "exception": false,
     "start_time": "2021-02-07T05:20:10.203240",
     "status": "completed"
    },
    "tags": []
   },
   "source": [
    "# LogisticRegression"
   ]
  },
  {
   "cell_type": "code",
   "execution_count": 15,
   "metadata": {
    "execution": {
     "iopub.execute_input": "2021-02-07T05:20:10.283370Z",
     "iopub.status.busy": "2021-02-07T05:20:10.282408Z",
     "iopub.status.idle": "2021-02-07T05:20:57.518721Z",
     "shell.execute_reply": "2021-02-07T05:20:57.519418Z"
    },
    "papermill": {
     "duration": 47.267856,
     "end_time": "2021-02-07T05:20:57.519595",
     "exception": false,
     "start_time": "2021-02-07T05:20:10.251739",
     "status": "completed"
    },
    "tags": []
   },
   "outputs": [
    {
     "name": "stderr",
     "output_type": "stream",
     "text": [
      "/opt/conda/lib/python3.7/site-packages/sklearn/linear_model/_logistic.py:764: ConvergenceWarning: lbfgs failed to converge (status=1):\n",
      "STOP: TOTAL NO. of ITERATIONS REACHED LIMIT.\n",
      "\n",
      "Increase the number of iterations (max_iter) or scale the data as shown in:\n",
      "    https://scikit-learn.org/stable/modules/preprocessing.html\n",
      "Please also refer to the documentation for alternative solver options:\n",
      "    https://scikit-learn.org/stable/modules/linear_model.html#logistic-regression\n",
      "  extra_warning_msg=_LOGISTIC_SOLVER_CONVERGENCE_MSG)\n"
     ]
    }
   ],
   "source": [
    "clf = LogisticRegression(random_state=0,penalty='l2').fit(X_train, y_train)"
   ]
  },
  {
   "cell_type": "code",
   "execution_count": 16,
   "metadata": {
    "execution": {
     "iopub.execute_input": "2021-02-07T05:20:57.579381Z",
     "iopub.status.busy": "2021-02-07T05:20:57.578467Z",
     "iopub.status.idle": "2021-02-07T05:20:57.829762Z",
     "shell.execute_reply": "2021-02-07T05:20:57.829241Z"
    },
    "papermill": {
     "duration": 0.283361,
     "end_time": "2021-02-07T05:20:57.829862",
     "exception": false,
     "start_time": "2021-02-07T05:20:57.546501",
     "status": "completed"
    },
    "tags": []
   },
   "outputs": [],
   "source": [
    "y_pred2=clf.predict(X_test)"
   ]
  },
  {
   "cell_type": "code",
   "execution_count": 17,
   "metadata": {
    "execution": {
     "iopub.execute_input": "2021-02-07T05:20:57.891966Z",
     "iopub.status.busy": "2021-02-07T05:20:57.890723Z",
     "iopub.status.idle": "2021-02-07T05:20:58.095117Z",
     "shell.execute_reply": "2021-02-07T05:20:58.094624Z"
    },
    "papermill": {
     "duration": 0.237886,
     "end_time": "2021-02-07T05:20:58.095232",
     "exception": false,
     "start_time": "2021-02-07T05:20:57.857346",
     "status": "completed"
    },
    "tags": []
   },
   "outputs": [
    {
     "data": {
      "text/plain": [
       "0.5154772900484028"
      ]
     },
     "execution_count": 17,
     "metadata": {},
     "output_type": "execute_result"
    }
   ],
   "source": [
    "#Accuracy on test split\n",
    "clf.score(X_test, y_test)"
   ]
  },
  {
   "cell_type": "code",
   "execution_count": 18,
   "metadata": {
    "execution": {
     "iopub.execute_input": "2021-02-07T05:20:58.156714Z",
     "iopub.status.busy": "2021-02-07T05:20:58.155600Z",
     "iopub.status.idle": "2021-02-07T05:20:59.160607Z",
     "shell.execute_reply": "2021-02-07T05:20:59.161063Z"
    },
    "papermill": {
     "duration": 1.038747,
     "end_time": "2021-02-07T05:20:59.161190",
     "exception": false,
     "start_time": "2021-02-07T05:20:58.122443",
     "status": "completed"
    },
    "tags": []
   },
   "outputs": [
    {
     "data": {
      "text/plain": [
       "0.5149811139102187"
      ]
     },
     "execution_count": 18,
     "metadata": {},
     "output_type": "execute_result"
    }
   ],
   "source": [
    "#Accracy on train split\n",
    "clf.score(X_train, y_train)"
   ]
  },
  {
   "cell_type": "code",
   "execution_count": 19,
   "metadata": {
    "execution": {
     "iopub.execute_input": "2021-02-07T05:20:59.219454Z",
     "iopub.status.busy": "2021-02-07T05:20:59.218654Z",
     "iopub.status.idle": "2021-02-07T05:20:59.936046Z",
     "shell.execute_reply": "2021-02-07T05:20:59.936665Z"
    },
    "papermill": {
     "duration": 0.749803,
     "end_time": "2021-02-07T05:20:59.936849",
     "exception": false,
     "start_time": "2021-02-07T05:20:59.187046",
     "status": "completed"
    },
    "tags": []
   },
   "outputs": [
    {
     "data": {
      "text/plain": [
       "Text(33.0, 0.5, 'Predicted Label')"
      ]
     },
     "execution_count": 19,
     "metadata": {},
     "output_type": "execute_result"
    },
    {
     "data": {
      "image/png": "[encoded data removed]",
      "text/plain": [
       "<Figure size 432x288 with 2 Axes>"
      ]
     },
     "metadata": {
      "needs_background": "light"
     },
     "output_type": "display_data"
    }
   ],
   "source": [
    "import seaborn as sns          \n",
    "# Confusion Matrix\n",
    "cm = confusion_matrix(y_test, y_pred2).T\n",
    "cm = cm.astype('float')/cm.sum(axis=0)\n",
    "ax = sns.heatmap(cm, annot=True, cmap='Blues');\n",
    "ax.set_xlabel('True Label',size=12)\n",
    "ax.set_ylabel('Predicted Label',size=12)"
   ]
  },
  {
   "cell_type": "markdown",
   "metadata": {
    "papermill": {
     "duration": 0.045026,
     "end_time": "2021-02-07T05:21:00.030371",
     "exception": false,
     "start_time": "2021-02-07T05:20:59.985345",
     "status": "completed"
    },
    "tags": []
   },
   "source": [
    "# Decision Tree Classifier\n"
   ]
  },
  {
   "cell_type": "code",
   "execution_count": 20,
   "metadata": {
    "execution": {
     "iopub.execute_input": "2021-02-07T05:21:00.129372Z",
     "iopub.status.busy": "2021-02-07T05:21:00.128372Z",
     "iopub.status.idle": "2021-02-07T05:21:00.129846Z",
     "shell.execute_reply": "2021-02-07T05:21:00.128876Z"
    },
    "papermill": {
     "duration": 0.053299,
     "end_time": "2021-02-07T05:21:00.129976",
     "exception": false,
     "start_time": "2021-02-07T05:21:00.076677",
     "status": "completed"
    },
    "tags": []
   },
   "outputs": [],
   "source": [
    "from sklearn import tree"
   ]
  },
  {
   "cell_type": "code",
   "execution_count": 21,
   "metadata": {
    "execution": {
     "iopub.execute_input": "2021-02-07T05:21:00.220599Z",
     "iopub.status.busy": "2021-02-07T05:21:00.219781Z",
     "iopub.status.idle": "2021-02-07T05:21:00.224214Z",
     "shell.execute_reply": "2021-02-07T05:21:00.225462Z"
    },
    "papermill": {
     "duration": 0.052302,
     "end_time": "2021-02-07T05:21:00.225727",
     "exception": false,
     "start_time": "2021-02-07T05:21:00.173425",
     "status": "completed"
    },
    "tags": []
   },
   "outputs": [],
   "source": [
    "clf = tree.DecisionTreeClassifier()"
   ]
  },
  {
   "cell_type": "code",
   "execution_count": 22,
   "metadata": {
    "execution": {
     "iopub.execute_input": "2021-02-07T05:21:00.332613Z",
     "iopub.status.busy": "2021-02-07T05:21:00.331850Z",
     "iopub.status.idle": "2021-02-07T05:35:59.293971Z",
     "shell.execute_reply": "2021-02-07T05:35:59.294462Z"
    },
    "papermill": {
     "duration": 899.021208,
     "end_time": "2021-02-07T05:35:59.294606",
     "exception": false,
     "start_time": "2021-02-07T05:21:00.273398",
     "status": "completed"
    },
    "tags": []
   },
   "outputs": [
    {
     "data": {
      "text/plain": [
       "DecisionTreeClassifier()"
      ]
     },
     "execution_count": 22,
     "metadata": {},
     "output_type": "execute_result"
    }
   ],
   "source": [
    "clf.fit(X_train, y_train)\n"
   ]
  },
  {
   "cell_type": "code",
   "execution_count": 23,
   "metadata": {
    "execution": {
     "iopub.execute_input": "2021-02-07T05:35:59.357014Z",
     "iopub.status.busy": "2021-02-07T05:35:59.355845Z",
     "iopub.status.idle": "2021-02-07T05:35:59.873060Z",
     "shell.execute_reply": "2021-02-07T05:35:59.872579Z"
    },
    "papermill": {
     "duration": 0.551123,
     "end_time": "2021-02-07T05:35:59.873169",
     "exception": false,
     "start_time": "2021-02-07T05:35:59.322046",
     "status": "completed"
    },
    "tags": []
   },
   "outputs": [],
   "source": [
    "y_pred3=clf.predict(X_test)"
   ]
  },
  {
   "cell_type": "code",
   "execution_count": 24,
   "metadata": {
    "execution": {
     "iopub.execute_input": "2021-02-07T05:35:59.936460Z",
     "iopub.status.busy": "2021-02-07T05:35:59.935246Z",
     "iopub.status.idle": "2021-02-07T05:36:00.473420Z",
     "shell.execute_reply": "2021-02-07T05:36:00.473851Z"
    },
    "papermill": {
     "duration": 0.572894,
     "end_time": "2021-02-07T05:36:00.473990",
     "exception": false,
     "start_time": "2021-02-07T05:35:59.901096",
     "status": "completed"
    },
    "tags": []
   },
   "outputs": [
    {
     "data": {
      "text/plain": [
       "0.5643192061737555"
      ]
     },
     "execution_count": 24,
     "metadata": {},
     "output_type": "execute_result"
    }
   ],
   "source": [
    "clf.score(X_test, y_test)"
   ]
  },
  {
   "cell_type": "code",
   "execution_count": 25,
   "metadata": {
    "execution": {
     "iopub.execute_input": "2021-02-07T05:36:00.537541Z",
     "iopub.status.busy": "2021-02-07T05:36:00.536555Z",
     "iopub.status.idle": "2021-02-07T05:36:02.977404Z",
     "shell.execute_reply": "2021-02-07T05:36:02.977830Z"
    },
    "papermill": {
     "duration": 2.475866,
     "end_time": "2021-02-07T05:36:02.977969",
     "exception": false,
     "start_time": "2021-02-07T05:36:00.502103",
     "status": "completed"
    },
    "tags": []
   },
   "outputs": [
    {
     "data": {
      "text/plain": [
       "1.0"
      ]
     },
     "execution_count": 25,
     "metadata": {},
     "output_type": "execute_result"
    }
   ],
   "source": [
    "clf.score(X_train, y_train)"
   ]
  },
  {
   "cell_type": "code",
   "execution_count": 26,
   "metadata": {
    "execution": {
     "iopub.execute_input": "2021-02-07T05:36:03.042463Z",
     "iopub.status.busy": "2021-02-07T05:36:03.041649Z",
     "iopub.status.idle": "2021-02-07T05:36:03.686041Z",
     "shell.execute_reply": "2021-02-07T05:36:03.686492Z"
    },
    "papermill": {
     "duration": 0.679126,
     "end_time": "2021-02-07T05:36:03.686616",
     "exception": false,
     "start_time": "2021-02-07T05:36:03.007490",
     "status": "completed"
    },
    "tags": []
   },
   "outputs": [
    {
     "data": {
      "text/plain": [
       "Text(33.0, 0.5, 'Predicted Label')"
      ]
     },
     "execution_count": 26,
     "metadata": {},
     "output_type": "execute_result"
    },
    {
     "data": {
      "image/png": "[encoded data removed]",
      "text/plain": [
       "<Figure size 432x288 with 2 Axes>"
      ]
     },
     "metadata": {
      "needs_background": "light"
     },
     "output_type": "display_data"
    }
   ],
   "source": [
    "# Confusion Matrix\n",
    "cm = confusion_matrix(y_test, y_pred3).T\n",
    "cm = cm.astype('float')/cm.sum(axis=0)\n",
    "ax = sns.heatmap(cm, annot=True, cmap='Blues');\n",
    "ax.set_xlabel('True Label',size=12)\n",
    "ax.set_ylabel('Predicted Label',size=12)"
   ]
  },
  {
   "cell_type": "markdown",
   "metadata": {
    "papermill": {
     "duration": 0.029345,
     "end_time": "2021-02-07T05:36:03.745700",
     "exception": false,
     "start_time": "2021-02-07T05:36:03.716355",
     "status": "completed"
    },
    "tags": []
   },
   "source": [
    "# SGDClassifier"
   ]
  },
  {
   "cell_type": "code",
   "execution_count": 27,
   "metadata": {
    "execution": {
     "iopub.execute_input": "2021-02-07T05:36:03.813372Z",
     "iopub.status.busy": "2021-02-07T05:36:03.812251Z",
     "iopub.status.idle": "2021-02-07T05:37:43.005371Z",
     "shell.execute_reply": "2021-02-07T05:37:43.004786Z"
    },
    "papermill": {
     "duration": 99.230439,
     "end_time": "2021-02-07T05:37:43.005484",
     "exception": false,
     "start_time": "2021-02-07T05:36:03.775045",
     "status": "completed"
    },
    "tags": []
   },
   "outputs": [
    {
     "name": "stderr",
     "output_type": "stream",
     "text": [
      "/opt/conda/lib/python3.7/site-packages/sklearn/linear_model/_stochastic_gradient.py:573: ConvergenceWarning: Maximum number of iteration reached before convergence. Consider increasing max_iter to improve the fit.\n",
      "  ConvergenceWarning)\n"
     ]
    }
   ],
   "source": [
    "\n",
    "clf = SGDClassifier(loss=\"hinge\", penalty=\"l2\", max_iter=100).fit(X_train, y_train)\n",
    "y_hat = clf.predict(X_train)\n",
    "y_hat_test = clf.predict(X_test)\n",
    "score = accuracy_score(y_hat_test, y_test)\n"
   ]
  },
  {
   "cell_type": "code",
   "execution_count": 28,
   "metadata": {
    "execution": {
     "iopub.execute_input": "2021-02-07T05:37:43.070674Z",
     "iopub.status.busy": "2021-02-07T05:37:43.069968Z",
     "iopub.status.idle": "2021-02-07T05:37:43.073081Z",
     "shell.execute_reply": "2021-02-07T05:37:43.073510Z"
    },
    "papermill": {
     "duration": 0.03792,
     "end_time": "2021-02-07T05:37:43.073614",
     "exception": false,
     "start_time": "2021-02-07T05:37:43.035694",
     "status": "completed"
    },
    "tags": []
   },
   "outputs": [
    {
     "data": {
      "text/plain": [
       "0.5055418439501537"
      ]
     },
     "execution_count": 28,
     "metadata": {},
     "output_type": "execute_result"
    }
   ],
   "source": [
    "score"
   ]
  },
  {
   "cell_type": "code",
   "execution_count": 29,
   "metadata": {
    "execution": {
     "iopub.execute_input": "2021-02-07T05:37:43.139866Z",
     "iopub.status.busy": "2021-02-07T05:37:43.139091Z",
     "iopub.status.idle": "2021-02-07T05:37:43.914260Z",
     "shell.execute_reply": "2021-02-07T05:37:43.914743Z"
    },
    "papermill": {
     "duration": 0.811388,
     "end_time": "2021-02-07T05:37:43.914875",
     "exception": false,
     "start_time": "2021-02-07T05:37:43.103487",
     "status": "completed"
    },
    "tags": []
   },
   "outputs": [
    {
     "data": {
      "text/plain": [
       "Text(33.0, 0.5, 'Predicted Label')"
      ]
     },
     "execution_count": 29,
     "metadata": {},
     "output_type": "execute_result"
    },
    {
     "data": {
      "image/png": "[encoded data removed]",
      "text/plain": [
       "<Figure size 432x288 with 2 Axes>"
      ]
     },
     "metadata": {
      "needs_background": "light"
     },
     "output_type": "display_data"
    }
   ],
   "source": [
    "import seaborn as sns          \n",
    "# Confusion Matrix\n",
    "cm = confusion_matrix(y_test, y_hat_test).T\n",
    "cm = cm.astype('float')/cm.sum(axis=0)\n",
    "ax = sns.heatmap(cm, annot=True, cmap='Blues');\n",
    "ax.set_xlabel('True Label',size=12)\n",
    "ax.set_ylabel('Predicted Label',size=12)"
   ]
  },
  {
   "cell_type": "markdown",
   "metadata": {
    "papermill": {
     "duration": 0.032732,
     "end_time": "2021-02-07T05:37:43.981412",
     "exception": false,
     "start_time": "2021-02-07T05:37:43.948680",
     "status": "completed"
    },
    "tags": []
   },
   "source": [
    "# RandomForestClassifier"
   ]
  },
  {
   "cell_type": "code",
   "execution_count": 30,
   "metadata": {
    "execution": {
     "iopub.execute_input": "2021-02-07T05:37:44.052585Z",
     "iopub.status.busy": "2021-02-07T05:37:44.051609Z",
     "iopub.status.idle": "2021-02-07T06:54:04.869738Z",
     "shell.execute_reply": "2021-02-07T06:54:04.870203Z"
    },
    "papermill": {
     "duration": 4580.857005,
     "end_time": "2021-02-07T06:54:04.870339",
     "exception": false,
     "start_time": "2021-02-07T05:37:44.013334",
     "status": "completed"
    },
    "tags": []
   },
   "outputs": [
    {
     "data": {
      "text/plain": [
       "RandomForestClassifier()"
      ]
     },
     "execution_count": 30,
     "metadata": {},
     "output_type": "execute_result"
    }
   ],
   "source": [
    "from sklearn.ensemble import RandomForestClassifier\n",
    "#Create a Gaussian Classifier\n",
    "clf=RandomForestClassifier(n_estimators=100)\n",
    "#Train the model using the training sets y_pred=clf.predict(X_test)\n",
    "clf.fit(X_train,y_train)"
   ]
  },
  {
   "cell_type": "code",
   "execution_count": 31,
   "metadata": {
    "execution": {
     "iopub.execute_input": "2021-02-07T06:54:04.943241Z",
     "iopub.status.busy": "2021-02-07T06:54:04.942299Z",
     "iopub.status.idle": "2021-02-07T06:54:36.300750Z",
     "shell.execute_reply": "2021-02-07T06:54:36.300280Z"
    },
    "papermill": {
     "duration": 31.397584,
     "end_time": "2021-02-07T06:54:36.300854",
     "exception": false,
     "start_time": "2021-02-07T06:54:04.903270",
     "status": "completed"
    },
    "tags": []
   },
   "outputs": [],
   "source": [
    "y_predR=clf.predict(X_test)"
   ]
  },
  {
   "cell_type": "code",
   "execution_count": 32,
   "metadata": {
    "execution": {
     "iopub.execute_input": "2021-02-07T06:54:36.371741Z",
     "iopub.status.busy": "2021-02-07T06:54:36.370949Z",
     "iopub.status.idle": "2021-02-07T06:54:36.407618Z",
     "shell.execute_reply": "2021-02-07T06:54:36.408327Z"
    },
    "papermill": {
     "duration": 0.074228,
     "end_time": "2021-02-07T06:54:36.408488",
     "exception": false,
     "start_time": "2021-02-07T06:54:36.334260",
     "status": "completed"
    },
    "tags": []
   },
   "outputs": [
    {
     "name": "stdout",
     "output_type": "stream",
     "text": [
      "Accuracy: 0.600848437129345\n"
     ]
    }
   ],
   "source": [
    "#After training, check the accuracy using actual and predicted values.\n",
    "#Import scikit-learn metrics module for accuracy calculation\n",
    "from sklearn import metrics\n",
    "# Model Accuracy, how often is the classifier correct?\n",
    "print(\"Accuracy:\",metrics.accuracy_score(y_test, y_predR))  "
   ]
  },
  {
   "cell_type": "code",
   "execution_count": 33,
   "metadata": {
    "execution": {
     "iopub.execute_input": "2021-02-07T06:54:36.480703Z",
     "iopub.status.busy": "2021-02-07T06:54:36.479934Z",
     "iopub.status.idle": "2021-02-07T06:54:37.142277Z",
     "shell.execute_reply": "2021-02-07T06:54:37.142696Z"
    },
    "papermill": {
     "duration": 0.701183,
     "end_time": "2021-02-07T06:54:37.142826",
     "exception": false,
     "start_time": "2021-02-07T06:54:36.441643",
     "status": "completed"
    },
    "tags": []
   },
   "outputs": [
    {
     "data": {
      "text/plain": [
       "Text(33.0, 0.5, 'Predicted Label')"
      ]
     },
     "execution_count": 33,
     "metadata": {},
     "output_type": "execute_result"
    },
    {
     "data": {
      "image/png": "[encoded data removed]",
      "text/plain": [
       "<Figure size 432x288 with 2 Axes>"
      ]
     },
     "metadata": {
      "needs_background": "light"
     },
     "output_type": "display_data"
    }
   ],
   "source": [
    "import seaborn as sns          \n",
    "# Confusion Matrix\n",
    "cm = confusion_matrix(y_test, y_predR).T\n",
    "cm = cm.astype('float')/cm.sum(axis=0)\n",
    "ax = sns.heatmap(cm, annot=True, cmap='Blues');\n",
    "ax.set_xlabel('True Label',size=12)\n",
    "ax.set_ylabel('Predicted Label',size=12)"
   ]
  },
  {
   "cell_type": "code",
   "execution_count": null,
   "metadata": {
    "papermill": {
     "duration": 0.033509,
     "end_time": "2021-02-07T06:54:37.211142",
     "exception": false,
     "start_time": "2021-02-07T06:54:37.177633",
     "status": "completed"
    },
    "tags": []
   },
   "outputs": [],
   "source": []
  }
 ],
 "metadata": {
  "kernelspec": {
   "display_name": "Python 3",
   "language": "python",
   "name": "python3"
  },
  "language_info": {
   "codemirror_mode": {
    "name": "ipython",
    "version": 3
   },
   "file_extension": ".py",
   "mimetype": "text/x-python",
   "name": "python",
   "nbconvert_exporter": "python",
   "pygments_lexer": "ipython3",
   "version": "3.7.6"
  },
  "papermill": {
   "duration": 6061.381754,
   "end_time": "2021-02-07T06:54:37.653417",
   "environment_variables": {},
   "exception": null,
   "input_path": "__notebook__.ipynb",
   "output_path": "__notebook__.ipynb",
   "parameters": {},
   "start_time": "2021-02-07T05:13:36.271663",
   "version": "2.1.0"
  }
 },
 "nbformat": 4,
 "nbformat_minor": 4
}
